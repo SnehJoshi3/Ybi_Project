{
  "nbformat": 4,
  "nbformat_minor": 0,
  "metadata": {
    "colab": {
      "provenance": []
    },
    "kernelspec": {
      "name": "python3",
      "display_name": "Python 3"
    },
    "language_info": {
      "name": "python"
    }
  },
  "cells": [
    {
      "cell_type": "markdown",
      "source": [
        "Project Title : Crop Yield Prediction for AgriBoost"
      ],
      "metadata": {
        "id": "sJKsBT9ttAWj"
      }
    },
    {
      "cell_type": "markdown",
      "source": [
        "Date : 28 June 2025"
      ],
      "metadata": {
        "id": "d08D-p0l3CfF"
      }
    },
    {
      "cell_type": "markdown",
      "source": [
        "Description : A basic machine learning model that predicts crop yield for Agriboost."
      ],
      "metadata": {
        "id": "opuGjYLX3Jjv"
      }
    },
    {
      "cell_type": "markdown",
      "source": [
        "Input : CropYield.csv"
      ],
      "metadata": {
        "id": "oPegogf73afl"
      }
    },
    {
      "cell_type": "code",
      "execution_count": 1,
      "metadata": {
        "id": "IoPp5eUns1uE"
      },
      "outputs": [],
      "source": [
        "# 1. Import necessary libraries\n",
        "import numpy as np\n",
        "import pandas as pd\n",
        "import matplotlib.pyplot as plt\n",
        "from sklearn.linear_model import LinearRegression\n",
        "from sklearn.model_selection import train_test_split\n",
        "from sklearn.metrics import mean_squared_error, r2_score\n",
        "from google.colab import drive\n"
      ]
    },
    {
      "cell_type": "code",
      "source": [
        "# 2. Load dataset\n",
        "file_path = '/content/drive/MyDrive/Colab Notebooks/Crop Yield Prediction for AgriBoost India.csv'\n",
        "df = pd.read_csv(file_path)\n",
        "df_encoded = pd.get_dummies(df, drop_first=True)"
      ],
      "metadata": {
        "id": "YXoCoxeevo9T"
      },
      "execution_count": 2,
      "outputs": []
    },
    {
      "cell_type": "code",
      "source": [
        "print(df.head())"
      ],
      "metadata": {
        "id": "UeLNc6gAs_gl",
        "colab": {
          "base_uri": "https://localhost:8080/"
        },
        "outputId": "4c298fcc-61ad-4042-a3c1-d24576147c29"
      },
      "execution_count": 3,
      "outputs": [
        {
          "output_type": "stream",
          "name": "stdout",
          "text": [
            "  crop_type soil_type  rainfall_mm  temperature_c  humidity_percent  soil_ph  \\\n",
            "0     Wheat     Silty        570.6           25.9              41.4     6.27   \n",
            "1     Maize     Loamy        710.1           29.7              67.9     6.89   \n",
            "2    Cotton     Sandy        996.8           21.6              68.6     7.67   \n",
            "3    Cotton     Loamy        890.0           33.0              78.5     7.94   \n",
            "4     Wheat     Silty        994.4           24.1              59.9     7.04   \n",
            "\n",
            "   fertilizer_used_kg_per_hectare  pesticide_used_kg_per_hectare  \\\n",
            "0                           108.4                           1.64   \n",
            "1                           140.1                           1.88   \n",
            "2                           128.3                           1.27   \n",
            "3                           163.3                           1.89   \n",
            "4                           200.1                           1.78   \n",
            "\n",
            "  irrigation_type  seed_quality_index  satellite_ndvi_index  \\\n",
            "0       Sprinkler                7.28                  0.23   \n",
            "1            Drip                6.37                  0.51   \n",
            "2       Sprinkler                3.18                  0.87   \n",
            "3       Sprinkler                1.82                  0.31   \n",
            "4           Canal                1.40                  0.51   \n",
            "\n",
            "   predicted_yield_quintal_per_hectare  \n",
            "0                                31.49  \n",
            "1                                40.63  \n",
            "2                                35.06  \n",
            "3                                29.74  \n",
            "4                                26.99  \n"
          ]
        }
      ]
    },
    {
      "cell_type": "markdown",
      "source": [
        "Issue # 1 : Encoding the values that are of string types."
      ],
      "metadata": {
        "id": "8r4djuBe9k7c"
      }
    },
    {
      "cell_type": "markdown",
      "source": [
        "Issue #2 : Selecting the right model.\n",
        "Selected model : Regression model\n",
        "\n",
        "\n",
        "We use Simple Linear Regression when:\n",
        "\n",
        "The dataset contains one independent variable (feature) and one dependent variable (target).\n",
        "\n",
        "We assume there's a linear relationship between those two variables.\n",
        "\n"
      ],
      "metadata": {
        "id": "26r7rf4f9zs4"
      }
    },
    {
      "cell_type": "code",
      "source": [
        "# 3. Split into X and y\n",
        "X=df_encoded.drop(columns='predicted_yield_quintal_per_hectare')\n",
        "y = df['predicted_yield_quintal_per_hectare']\n",
        "\n",
        "# 4. Split into training and testing sets\n",
        "X_train, X_test, y_train, y_test = train_test_split(X,y, test_size=0.2, random_state=42)"
      ],
      "metadata": {
        "id": "Ut8163YN9wm6"
      },
      "execution_count": 4,
      "outputs": []
    },
    {
      "cell_type": "code",
      "source": [
        "# Printing shape\n",
        "print(X_test.shape, y_test.shape, y_pred.shape)\n"
      ],
      "metadata": {
        "colab": {
          "base_uri": "https://localhost:8080/",
          "height": 159
        },
        "id": "y29jvqHDUUp8",
        "outputId": "effb3cfa-9f9d-4295-e811-c07f91dbabc9"
      },
      "execution_count": 5,
      "outputs": [
        {
          "output_type": "error",
          "ename": "NameError",
          "evalue": "name 'y_pred' is not defined",
          "traceback": [
            "\u001b[0;31m---------------------------------------------------------------------------\u001b[0m",
            "\u001b[0;31mNameError\u001b[0m                                 Traceback (most recent call last)",
            "\u001b[0;32m/tmp/ipython-input-5-4247522353.py\u001b[0m in \u001b[0;36m<cell line: 0>\u001b[0;34m()\u001b[0m\n\u001b[1;32m      1\u001b[0m \u001b[0;31m# Printing shape\u001b[0m\u001b[0;34m\u001b[0m\u001b[0;34m\u001b[0m\u001b[0m\n\u001b[0;32m----> 2\u001b[0;31m \u001b[0mprint\u001b[0m\u001b[0;34m(\u001b[0m\u001b[0mX_test\u001b[0m\u001b[0;34m.\u001b[0m\u001b[0mshape\u001b[0m\u001b[0;34m,\u001b[0m \u001b[0my_test\u001b[0m\u001b[0;34m.\u001b[0m\u001b[0mshape\u001b[0m\u001b[0;34m,\u001b[0m \u001b[0my_pred\u001b[0m\u001b[0;34m.\u001b[0m\u001b[0mshape\u001b[0m\u001b[0;34m)\u001b[0m\u001b[0;34m\u001b[0m\u001b[0;34m\u001b[0m\u001b[0m\n\u001b[0m",
            "\u001b[0;31mNameError\u001b[0m: name 'y_pred' is not defined"
          ]
        }
      ]
    },
    {
      "cell_type": "code",
      "source": [
        "# 6. Train the model\n",
        "model.fit(X_train, y_train)"
      ],
      "metadata": {
        "id": "f03UIOla-9C_"
      },
      "execution_count": null,
      "outputs": []
    },
    {
      "cell_type": "code",
      "source": [
        "\n",
        "# 5. Create Linear Regression model\n",
        "model = LinearRegression()\n"
      ],
      "metadata": {
        "id": "sU5XIwnF-8DA"
      },
      "execution_count": null,
      "outputs": []
    },
    {
      "cell_type": "code",
      "source": [
        "\n",
        "# 7. Predict using the model\n",
        "\n",
        "y_pred = model.predict(X_test)\n",
        "\n",
        "# 8. Evaluate the model\n",
        "mse = mean_squared_error(y_test, y_pred)\n",
        "r2 = r2_score(y_test, y_pred)\n",
        "\n",
        "print(\"Mean Squared Error:\", mse)\n",
        "print(\"R² Score:\", r2)\n",
        "\n"
      ],
      "metadata": {
        "id": "FjWXkjCz-9Hm"
      },
      "execution_count": null,
      "outputs": []
    },
    {
      "cell_type": "code",
      "source": [
        "# Example Input\n",
        "new_input = pd.DataFrame([{\n",
        "    'crop_type': 'Wheat',\n",
        "    'soil_type': 'Loamy',\n",
        "    'rainfall_mm': 150.0,\n",
        "    'temperature_c': 25.0,\n",
        "    'humidity_percent': 60.0,\n",
        "    'soil_ph': 6.5,\n",
        "    'fertilizer_used_kg_per_hectare': 100.0,\n",
        "    'pesticide_used_kg_per_hectare': 5.0,\n",
        "    'irrigation_type': 'Drip',\n",
        "    'seed_quality_index': 0.85,\n",
        "    'satellite_ndvi_index': 0.72\n",
        "}])\n",
        "\n",
        "new_input_encoded = pd.get_dummies(new_input)\n",
        "\n",
        "new_input_encoded = new_input_encoded.reindex(columns=X.columns, fill_value=0)\n",
        "predicted_yield = model.predict(new_input_encoded)\n",
        "\n",
        "print(\"Predicted Yield:\", predicted_yield[0])\n"
      ],
      "metadata": {
        "id": "glifRX8bRw_6"
      },
      "execution_count": null,
      "outputs": []
    },
    {
      "cell_type": "markdown",
      "source": [
        "## 📌 Conclusion\n",
        "- The model shows a strong relationship between rainfall and crop yield\n",
        "- This can be used for yield estimation and decision-making in agriculture.\n",
        "- The model can be further improved by adding more features like temperature, soil type, etc.\n",
        "\n"
      ],
      "metadata": {
        "id": "aRR3jLGiUCoT"
      }
    }
  ]
}